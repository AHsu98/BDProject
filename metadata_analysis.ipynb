{
 "cells": [
  {
   "cell_type": "code",
   "execution_count": 1,
   "metadata": {},
   "outputs": [],
   "source": [
    "import pandas as pd\n",
    "from basic_utils import load_tracks"
   ]
  },
  {
   "cell_type": "code",
   "execution_count": 2,
   "metadata": {},
   "outputs": [],
   "source": [
    "tracks=load_tracks()"
   ]
  },
  {
   "cell_type": "code",
   "execution_count": 7,
   "metadata": {},
   "outputs": [],
   "source": [
    "albums=pd.read_csv('data/fma_metadata/raw_albums.csv')"
   ]
  },
  {
   "cell_type": "code",
   "execution_count": 9,
   "metadata": {},
   "outputs": [
    {
     "data": {
      "text/plain": [
       "album_id                                                               1\n",
       "album_comments                                                         0\n",
       "album_date_created                                11/26/2008 01:44:45 AM\n",
       "album_date_released                                            1/05/2009\n",
       "album_engineer                                                       NaN\n",
       "album_favorites                                                        4\n",
       "album_handle                                        AWOL_-_A_Way_Of_Life\n",
       "album_image_file       https://freemusicarchive.org/file/images/album...\n",
       "album_images           [{'image_id': '1955', 'image_file': 'https://f...\n",
       "album_information                                                <p></p>\n",
       "album_listens                                                       6073\n",
       "album_producer                                                       NaN\n",
       "album_title                                         AWOL - A Way Of Life\n",
       "album_tracks                                                           7\n",
       "album_type                                                         Album\n",
       "album_url              http://freemusicarchive.org/music/AWOL/AWOL_-_...\n",
       "artist_name                                                         AWOL\n",
       "artist_url                       http://freemusicarchive.org/music/AWOL/\n",
       "tags                                                                  []\n",
       "Name: 0, dtype: object"
      ]
     },
     "execution_count": 9,
     "metadata": {},
     "output_type": "execute_result"
    }
   ],
   "source": [
    "albums.iloc[0]"
   ]
  },
  {
   "cell_type": "code",
   "execution_count": null,
   "metadata": {},
   "outputs": [],
   "source": []
  }
 ],
 "metadata": {
  "kernelspec": {
   "display_name": "Python 3.10.9 ('base')",
   "language": "python",
   "name": "python3"
  },
  "language_info": {
   "codemirror_mode": {
    "name": "ipython",
    "version": 3
   },
   "file_extension": ".py",
   "mimetype": "text/x-python",
   "name": "python",
   "nbconvert_exporter": "python",
   "pygments_lexer": "ipython3",
   "version": "3.10.9"
  },
  "orig_nbformat": 4,
  "vscode": {
   "interpreter": {
    "hash": "8c64f42803d0b2c9c396a50f772fb39ec5216eb3204ea879a5c8aa8f1a14e461"
   }
  }
 },
 "nbformat": 4,
 "nbformat_minor": 2
}
